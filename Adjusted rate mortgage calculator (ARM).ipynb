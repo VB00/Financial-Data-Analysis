{
 "cells": [
  {
   "attachments": {},
   "cell_type": "markdown",
   "metadata": {},
   "source": [
    "**Adjusted rate mortgage (ARM)**\n",
    "\n",
    "An adjustable rate mortgage (ARM) is a type of mortgage in which the interest rate on the loan adjusts periodically over the life of the loan based on changes in a benchmark interest rate. This means that the monthly payments on the loan can go up or down over time.\n",
    "\n",
    "The interest rate on an ARM is typically fixed for a certain number of years at the beginning of the loan, after which it adjusts periodically based on the benchmark rate. The benchmark rate is often a financial index, such as the London Interbank Offered Rate (LIBOR) or the yield on U.S. Treasury securities.\n",
    "\n",
    "Here is an example of Python code that calculates the monthly payments on an ARM with a fixed interest rate for the first 5 years, after which the interest rate adjusts annually based on the LIBOR rate:"
   ]
  },
  {
   "attachments": {},
   "cell_type": "markdown",
   "metadata": {},
   "source": [
    "**Technical notes**\n",
    "\n",
    "This code calculates the monthly payment for an ARM with a principal of $100,000, an initial interest rate of 5%, and a LIBOR rate of 1%. The interest rate is fixed for the first 5 years, after which it adjusts annually based on the current LIBOR rate. The total payment is then printed to the console."
   ]
  },
  {
   "cell_type": "code",
   "execution_count": 1,
   "metadata": {},
   "outputs": [
    {
     "name": "stdout",
     "output_type": "stream",
     "text": [
      "Total payment: 231174.49\n"
     ]
    }
   ],
   "source": [
    "def calculate_arm_payment(principal, interest_rate, libor_rate, num_years):\n",
    "  # Calculate the monthly payment for the fixed period\n",
    "  fixed_period_payment = principal * (interest_rate / 12) / (1 - (1 + (interest_rate / 12)) ** (-12 * num_years))\n",
    "  \n",
    "  # Initialize the total payment and the interest rate for the adjustable period\n",
    "  total_payment = fixed_period_payment\n",
    "  adjustable_interest_rate = interest_rate\n",
    "  \n",
    "  # Calculate the payments for the adjustable period\n",
    "  for i in range(num_years, 30):\n",
    "    # Adjust the interest rate based on the current LIBOR rate\n",
    "    adjustable_interest_rate += libor_rate\n",
    "    \n",
    "    # Calculate the payment for the current year\n",
    "    payment = principal * (adjustable_interest_rate / 12) / (1 - (1 + (adjustable_interest_rate / 12)) ** (-12))\n",
    "    \n",
    "    # Add the payment to the total payment\n",
    "    total_payment += payment\n",
    "    \n",
    "  return total_payment\n",
    "\n",
    "# Example usage\n",
    "principal = 100000\n",
    "interest_rate = 0.05\n",
    "libor_rate = 0.01\n",
    "num_years = 5\n",
    "payment = calculate_arm_payment(principal, interest_rate, libor_rate, num_years)\n",
    "print(f\"Total payment: {payment:.2f}\")"
   ]
  }
 ],
 "metadata": {
  "kernelspec": {
   "display_name": "base",
   "language": "python",
   "name": "python3"
  },
  "language_info": {
   "codemirror_mode": {
    "name": "ipython",
    "version": 3
   },
   "file_extension": ".py",
   "mimetype": "text/x-python",
   "name": "python",
   "nbconvert_exporter": "python",
   "pygments_lexer": "ipython3",
   "version": "3.9.13 (main, Aug 25 2022, 23:51:50) [MSC v.1916 64 bit (AMD64)]"
  },
  "orig_nbformat": 4,
  "vscode": {
   "interpreter": {
    "hash": "b2b07b7653e09328d9003e90a45a9e80f12fc054af869727494bb3934883590e"
   }
  }
 },
 "nbformat": 4,
 "nbformat_minor": 2
}
